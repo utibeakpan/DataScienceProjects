{
 "cells": [
  {
   "cell_type": "markdown",
   "id": "bc636b76",
   "metadata": {},
   "source": [
    "Import relevant libraries"
   ]
  },
  {
   "cell_type": "code",
   "execution_count": 3,
   "id": "901a541d",
   "metadata": {},
   "outputs": [],
   "source": [
    "import matplotlib.pyplot as plt\n",
    "import pandas as pd\n",
    "import seaborn as sns\n",
    "import numpy as np\n",
    "import matplotlib as mpl\n",
    "import statsmodels.api as sm\n",
    "mpl.rcParams['figure.figsize'] = (20,10)\n",
    "mpl.rc('xtick', labelsize=20)\n",
    "mpl.rc('ytick', labelsize=20)\n",
    "mpl.rc('axes', labelsize=20)\n",
    "mpl.rc('axes', titlesize=20)"
   ]
  },
  {
   "cell_type": "markdown",
   "id": "ab8d4fbe",
   "metadata": {},
   "source": [
    "Clean the data"
   ]
  },
  {
   "cell_type": "code",
   "execution_count": 4,
   "id": "390c5ccc",
   "metadata": {},
   "outputs": [
    {
     "data": {
      "text/html": [
       "<div>\n",
       "<style scoped>\n",
       "    .dataframe tbody tr th:only-of-type {\n",
       "        vertical-align: middle;\n",
       "    }\n",
       "\n",
       "    .dataframe tbody tr th {\n",
       "        vertical-align: top;\n",
       "    }\n",
       "\n",
       "    .dataframe thead th {\n",
       "        text-align: right;\n",
       "    }\n",
       "</style>\n",
       "<table border=\"1\" class=\"dataframe\">\n",
       "  <thead>\n",
       "    <tr style=\"text-align: right;\">\n",
       "      <th></th>\n",
       "      <th>id</th>\n",
       "      <th>gender</th>\n",
       "      <th>age</th>\n",
       "      <th>hypertension</th>\n",
       "      <th>heart_disease</th>\n",
       "      <th>ever_married</th>\n",
       "      <th>work_type</th>\n",
       "      <th>Residence_type</th>\n",
       "      <th>avg_glucose_level</th>\n",
       "      <th>bmi</th>\n",
       "      <th>smoking_status</th>\n",
       "      <th>stroke</th>\n",
       "    </tr>\n",
       "  </thead>\n",
       "  <tbody>\n",
       "    <tr>\n",
       "      <th>0</th>\n",
       "      <td>9046</td>\n",
       "      <td>Male</td>\n",
       "      <td>67.0</td>\n",
       "      <td>0</td>\n",
       "      <td>1</td>\n",
       "      <td>Yes</td>\n",
       "      <td>Private</td>\n",
       "      <td>Urban</td>\n",
       "      <td>228.69</td>\n",
       "      <td>36.6</td>\n",
       "      <td>formerly smoked</td>\n",
       "      <td>1</td>\n",
       "    </tr>\n",
       "    <tr>\n",
       "      <th>1</th>\n",
       "      <td>51676</td>\n",
       "      <td>Female</td>\n",
       "      <td>61.0</td>\n",
       "      <td>0</td>\n",
       "      <td>0</td>\n",
       "      <td>Yes</td>\n",
       "      <td>Self-employed</td>\n",
       "      <td>Rural</td>\n",
       "      <td>202.21</td>\n",
       "      <td>NaN</td>\n",
       "      <td>never smoked</td>\n",
       "      <td>1</td>\n",
       "    </tr>\n",
       "    <tr>\n",
       "      <th>2</th>\n",
       "      <td>31112</td>\n",
       "      <td>Male</td>\n",
       "      <td>80.0</td>\n",
       "      <td>0</td>\n",
       "      <td>1</td>\n",
       "      <td>Yes</td>\n",
       "      <td>Private</td>\n",
       "      <td>Rural</td>\n",
       "      <td>105.92</td>\n",
       "      <td>32.5</td>\n",
       "      <td>never smoked</td>\n",
       "      <td>1</td>\n",
       "    </tr>\n",
       "    <tr>\n",
       "      <th>3</th>\n",
       "      <td>60182</td>\n",
       "      <td>Female</td>\n",
       "      <td>49.0</td>\n",
       "      <td>0</td>\n",
       "      <td>0</td>\n",
       "      <td>Yes</td>\n",
       "      <td>Private</td>\n",
       "      <td>Urban</td>\n",
       "      <td>171.23</td>\n",
       "      <td>34.4</td>\n",
       "      <td>smokes</td>\n",
       "      <td>1</td>\n",
       "    </tr>\n",
       "    <tr>\n",
       "      <th>4</th>\n",
       "      <td>1665</td>\n",
       "      <td>Female</td>\n",
       "      <td>79.0</td>\n",
       "      <td>1</td>\n",
       "      <td>0</td>\n",
       "      <td>Yes</td>\n",
       "      <td>Self-employed</td>\n",
       "      <td>Rural</td>\n",
       "      <td>174.12</td>\n",
       "      <td>24.0</td>\n",
       "      <td>never smoked</td>\n",
       "      <td>1</td>\n",
       "    </tr>\n",
       "  </tbody>\n",
       "</table>\n",
       "</div>"
      ],
      "text/plain": [
       "      id  gender   age  hypertension  heart_disease ever_married  \\\n",
       "0   9046    Male  67.0             0              1          Yes   \n",
       "1  51676  Female  61.0             0              0          Yes   \n",
       "2  31112    Male  80.0             0              1          Yes   \n",
       "3  60182  Female  49.0             0              0          Yes   \n",
       "4   1665  Female  79.0             1              0          Yes   \n",
       "\n",
       "       work_type Residence_type  avg_glucose_level   bmi   smoking_status  \\\n",
       "0        Private          Urban             228.69  36.6  formerly smoked   \n",
       "1  Self-employed          Rural             202.21   NaN     never smoked   \n",
       "2        Private          Rural             105.92  32.5     never smoked   \n",
       "3        Private          Urban             171.23  34.4           smokes   \n",
       "4  Self-employed          Rural             174.12  24.0     never smoked   \n",
       "\n",
       "   stroke  \n",
       "0       1  \n",
       "1       1  \n",
       "2       1  \n",
       "3       1  \n",
       "4       1  "
      ]
     },
     "execution_count": 4,
     "metadata": {},
     "output_type": "execute_result"
    }
   ],
   "source": [
    "df= pd.read_csv('healthcare-dataset-stroke-data.csv')\n",
    "df.head()\n"
   ]
  },
  {
   "cell_type": "raw",
   "id": "aa8570bc",
   "metadata": {},
   "source": [
    "Remove null values for bmi"
   ]
  },
  {
   "cell_type": "code",
   "execution_count": 5,
   "id": "f7aab963",
   "metadata": {},
   "outputs": [
    {
     "name": "stdout",
     "output_type": "stream",
     "text": [
      "96.0665362035225\n"
     ]
    }
   ],
   "source": [
    "df_na=df[df.isna().any(axis=1)]\n",
    "data_left = 100 - len(df_na)/len(df)*100\n",
    "print(data_left)"
   ]
  },
  {
   "cell_type": "code",
   "execution_count": 6,
   "id": "34307e25",
   "metadata": {},
   "outputs": [
    {
     "data": {
      "text/plain": [
       "4909"
      ]
     },
     "execution_count": 6,
     "metadata": {},
     "output_type": "execute_result"
    }
   ],
   "source": [
    "df_nonull = df.dropna()\n",
    "len(df_nonull)"
   ]
  },
  {
   "cell_type": "code",
   "execution_count": 7,
   "id": "ddc55484",
   "metadata": {},
   "outputs": [
    {
     "data": {
      "text/html": [
       "<div>\n",
       "<style scoped>\n",
       "    .dataframe tbody tr th:only-of-type {\n",
       "        vertical-align: middle;\n",
       "    }\n",
       "\n",
       "    .dataframe tbody tr th {\n",
       "        vertical-align: top;\n",
       "    }\n",
       "\n",
       "    .dataframe thead th {\n",
       "        text-align: right;\n",
       "    }\n",
       "</style>\n",
       "<table border=\"1\" class=\"dataframe\">\n",
       "  <thead>\n",
       "    <tr style=\"text-align: right;\">\n",
       "      <th></th>\n",
       "      <th>id</th>\n",
       "      <th>gender</th>\n",
       "      <th>age</th>\n",
       "      <th>hypertension</th>\n",
       "      <th>heart_disease</th>\n",
       "      <th>ever_married</th>\n",
       "      <th>work_type</th>\n",
       "      <th>Residence_type</th>\n",
       "      <th>avg_glucose_level</th>\n",
       "      <th>bmi</th>\n",
       "      <th>smoking_status</th>\n",
       "      <th>stroke</th>\n",
       "    </tr>\n",
       "  </thead>\n",
       "  <tbody>\n",
       "    <tr>\n",
       "      <th>0</th>\n",
       "      <td>9046</td>\n",
       "      <td>Male</td>\n",
       "      <td>67.0</td>\n",
       "      <td>0</td>\n",
       "      <td>1</td>\n",
       "      <td>Yes</td>\n",
       "      <td>Private</td>\n",
       "      <td>Urban</td>\n",
       "      <td>228.69</td>\n",
       "      <td>36.6</td>\n",
       "      <td>formerly smoked</td>\n",
       "      <td>1</td>\n",
       "    </tr>\n",
       "    <tr>\n",
       "      <th>2</th>\n",
       "      <td>31112</td>\n",
       "      <td>Male</td>\n",
       "      <td>80.0</td>\n",
       "      <td>0</td>\n",
       "      <td>1</td>\n",
       "      <td>Yes</td>\n",
       "      <td>Private</td>\n",
       "      <td>Rural</td>\n",
       "      <td>105.92</td>\n",
       "      <td>32.5</td>\n",
       "      <td>never smoked</td>\n",
       "      <td>1</td>\n",
       "    </tr>\n",
       "    <tr>\n",
       "      <th>3</th>\n",
       "      <td>60182</td>\n",
       "      <td>Female</td>\n",
       "      <td>49.0</td>\n",
       "      <td>0</td>\n",
       "      <td>0</td>\n",
       "      <td>Yes</td>\n",
       "      <td>Private</td>\n",
       "      <td>Urban</td>\n",
       "      <td>171.23</td>\n",
       "      <td>34.4</td>\n",
       "      <td>smokes</td>\n",
       "      <td>1</td>\n",
       "    </tr>\n",
       "    <tr>\n",
       "      <th>4</th>\n",
       "      <td>1665</td>\n",
       "      <td>Female</td>\n",
       "      <td>79.0</td>\n",
       "      <td>1</td>\n",
       "      <td>0</td>\n",
       "      <td>Yes</td>\n",
       "      <td>Self-employed</td>\n",
       "      <td>Rural</td>\n",
       "      <td>174.12</td>\n",
       "      <td>24.0</td>\n",
       "      <td>never smoked</td>\n",
       "      <td>1</td>\n",
       "    </tr>\n",
       "    <tr>\n",
       "      <th>5</th>\n",
       "      <td>56669</td>\n",
       "      <td>Male</td>\n",
       "      <td>81.0</td>\n",
       "      <td>0</td>\n",
       "      <td>0</td>\n",
       "      <td>Yes</td>\n",
       "      <td>Private</td>\n",
       "      <td>Urban</td>\n",
       "      <td>186.21</td>\n",
       "      <td>29.0</td>\n",
       "      <td>formerly smoked</td>\n",
       "      <td>1</td>\n",
       "    </tr>\n",
       "  </tbody>\n",
       "</table>\n",
       "</div>"
      ],
      "text/plain": [
       "      id  gender   age  hypertension  heart_disease ever_married  \\\n",
       "0   9046    Male  67.0             0              1          Yes   \n",
       "2  31112    Male  80.0             0              1          Yes   \n",
       "3  60182  Female  49.0             0              0          Yes   \n",
       "4   1665  Female  79.0             1              0          Yes   \n",
       "5  56669    Male  81.0             0              0          Yes   \n",
       "\n",
       "       work_type Residence_type  avg_glucose_level   bmi   smoking_status  \\\n",
       "0        Private          Urban             228.69  36.6  formerly smoked   \n",
       "2        Private          Rural             105.92  32.5     never smoked   \n",
       "3        Private          Urban             171.23  34.4           smokes   \n",
       "4  Self-employed          Rural             174.12  24.0     never smoked   \n",
       "5        Private          Urban             186.21  29.0  formerly smoked   \n",
       "\n",
       "   stroke  \n",
       "0       1  \n",
       "2       1  \n",
       "3       1  \n",
       "4       1  \n",
       "5       1  "
      ]
     },
     "execution_count": 7,
     "metadata": {},
     "output_type": "execute_result"
    }
   ],
   "source": [
    "df_nonull.head()"
   ]
  },
  {
   "cell_type": "code",
   "execution_count": 8,
   "id": "fe594793",
   "metadata": {},
   "outputs": [
    {
     "name": "stdout",
     "output_type": "stream",
     "text": [
      "<class 'pandas.core.frame.DataFrame'>\n",
      "Int64Index: 4909 entries, 0 to 5109\n",
      "Data columns (total 12 columns):\n",
      " #   Column             Non-Null Count  Dtype  \n",
      "---  ------             --------------  -----  \n",
      " 0   id                 4909 non-null   int64  \n",
      " 1   gender             4909 non-null   object \n",
      " 2   age                4909 non-null   float64\n",
      " 3   hypertension       4909 non-null   int64  \n",
      " 4   heart_disease      4909 non-null   int64  \n",
      " 5   ever_married       4909 non-null   object \n",
      " 6   work_type          4909 non-null   object \n",
      " 7   Residence_type     4909 non-null   object \n",
      " 8   avg_glucose_level  4909 non-null   float64\n",
      " 9   bmi                4909 non-null   float64\n",
      " 10  smoking_status     4909 non-null   object \n",
      " 11  stroke             4909 non-null   int64  \n",
      "dtypes: float64(3), int64(4), object(5)\n",
      "memory usage: 498.6+ KB\n"
     ]
    }
   ],
   "source": [
    "df_nonull.info()\n"
   ]
  },
  {
   "cell_type": "markdown",
   "id": "c2d1ade9",
   "metadata": {},
   "source": [
    "Create a subset of numerical values"
   ]
  },
  {
   "cell_type": "code",
   "execution_count": 9,
   "id": "ffc69214",
   "metadata": {},
   "outputs": [
    {
     "data": {
      "text/html": [
       "<div>\n",
       "<style scoped>\n",
       "    .dataframe tbody tr th:only-of-type {\n",
       "        vertical-align: middle;\n",
       "    }\n",
       "\n",
       "    .dataframe tbody tr th {\n",
       "        vertical-align: top;\n",
       "    }\n",
       "\n",
       "    .dataframe thead th {\n",
       "        text-align: right;\n",
       "    }\n",
       "</style>\n",
       "<table border=\"1\" class=\"dataframe\">\n",
       "  <thead>\n",
       "    <tr style=\"text-align: right;\">\n",
       "      <th></th>\n",
       "      <th>id</th>\n",
       "      <th>age</th>\n",
       "      <th>hypertension</th>\n",
       "      <th>heart_disease</th>\n",
       "      <th>avg_glucose_level</th>\n",
       "      <th>bmi</th>\n",
       "      <th>stroke</th>\n",
       "    </tr>\n",
       "  </thead>\n",
       "  <tbody>\n",
       "    <tr>\n",
       "      <th>0</th>\n",
       "      <td>9046</td>\n",
       "      <td>67.0</td>\n",
       "      <td>0</td>\n",
       "      <td>1</td>\n",
       "      <td>228.69</td>\n",
       "      <td>36.6</td>\n",
       "      <td>1</td>\n",
       "    </tr>\n",
       "    <tr>\n",
       "      <th>2</th>\n",
       "      <td>31112</td>\n",
       "      <td>80.0</td>\n",
       "      <td>0</td>\n",
       "      <td>1</td>\n",
       "      <td>105.92</td>\n",
       "      <td>32.5</td>\n",
       "      <td>1</td>\n",
       "    </tr>\n",
       "    <tr>\n",
       "      <th>3</th>\n",
       "      <td>60182</td>\n",
       "      <td>49.0</td>\n",
       "      <td>0</td>\n",
       "      <td>0</td>\n",
       "      <td>171.23</td>\n",
       "      <td>34.4</td>\n",
       "      <td>1</td>\n",
       "    </tr>\n",
       "    <tr>\n",
       "      <th>4</th>\n",
       "      <td>1665</td>\n",
       "      <td>79.0</td>\n",
       "      <td>1</td>\n",
       "      <td>0</td>\n",
       "      <td>174.12</td>\n",
       "      <td>24.0</td>\n",
       "      <td>1</td>\n",
       "    </tr>\n",
       "    <tr>\n",
       "      <th>5</th>\n",
       "      <td>56669</td>\n",
       "      <td>81.0</td>\n",
       "      <td>0</td>\n",
       "      <td>0</td>\n",
       "      <td>186.21</td>\n",
       "      <td>29.0</td>\n",
       "      <td>1</td>\n",
       "    </tr>\n",
       "  </tbody>\n",
       "</table>\n",
       "</div>"
      ],
      "text/plain": [
       "      id   age  hypertension  heart_disease  avg_glucose_level   bmi  stroke\n",
       "0   9046  67.0             0              1             228.69  36.6       1\n",
       "2  31112  80.0             0              1             105.92  32.5       1\n",
       "3  60182  49.0             0              0             171.23  34.4       1\n",
       "4   1665  79.0             1              0             174.12  24.0       1\n",
       "5  56669  81.0             0              0             186.21  29.0       1"
      ]
     },
     "execution_count": 9,
     "metadata": {},
     "output_type": "execute_result"
    }
   ],
   "source": [
    "col1=df_nonull.select_dtypes(np.number)\n",
    "col1.head()"
   ]
  },
  {
   "cell_type": "markdown",
   "id": "e2b541f9",
   "metadata": {},
   "source": [
    "Identify outliers using boxplot"
   ]
  },
  {
   "cell_type": "code",
   "execution_count": 10,
   "id": "1e92550f",
   "metadata": {},
   "outputs": [
    {
     "data": {
      "text/plain": [
       "<AxesSubplot:>"
      ]
     },
     "execution_count": 10,
     "metadata": {},
     "output_type": "execute_result"
    },
    {
     "data": {
      "image/png": "[encoded data removed]",
      "text/plain": [
       "<Figure size 1440x720 with 1 Axes>"
      ]
     },
     "metadata": {
      "needs_background": "light"
     },
     "output_type": "display_data"
    }
   ],
   "source": [
    "col2 = col1.drop(['id'], axis=1)\n",
    "col2.plot.box()"
   ]
  },
  {
   "cell_type": "raw",
   "id": "720b36cb",
   "metadata": {},
   "source": [
    "Remove outliers using IQR"
   ]
  },
  {
   "cell_type": "code",
   "execution_count": 11,
   "id": "005e8d89",
   "metadata": {},
   "outputs": [
    {
     "data": {
      "text/plain": [
       "age                  25.00\n",
       "hypertension          0.00\n",
       "heart_disease         0.00\n",
       "avg_glucose_level    77.07\n",
       "bmi                  23.50\n",
       "stroke                0.00\n",
       "Name: 0.25, dtype: float64"
      ]
     },
     "execution_count": 11,
     "metadata": {},
     "output_type": "execute_result"
    }
   ],
   "source": [
    "#Interquartile range function\n",
    "\n",
    "Q1 = col2.quantile(0.25)\n",
    "Q3 = col2.quantile(0.75)\n",
    "IQR = Q3 -Q1\n",
    "Q1"
   ]
  },
  {
   "cell_type": "code",
   "execution_count": 10,
   "id": "5e9358a6",
   "metadata": {},
   "outputs": [
    {
     "name": "stdout",
     "output_type": "stream",
     "text": [
      "HIGH BOUNDARY age                  112.50\n",
      "hypertension           0.00\n",
      "heart_disease          0.00\n",
      "avg_glucose_level    168.32\n",
      "bmi                   47.50\n",
      "stroke                 0.00\n",
      "dtype: float64\n",
      "LOW BOUNDARY age                 -27.50\n",
      "hypertension          0.00\n",
      "heart_disease         0.00\n",
      "avg_glucose_level    22.32\n",
      "bmi                   9.10\n",
      "stroke                0.00\n",
      "dtype: float64\n",
      "Q3 age                   60.00\n",
      "hypertension           0.00\n",
      "heart_disease          0.00\n",
      "avg_glucose_level    113.57\n",
      "bmi                   33.10\n",
      "stroke                 0.00\n",
      "Name: 0.75, dtype: float64\n",
      "Q1 age                  25.00\n",
      "hypertension          0.00\n",
      "heart_disease         0.00\n",
      "avg_glucose_level    77.07\n",
      "bmi                  23.50\n",
      "stroke                0.00\n",
      "Name: 0.25, dtype: float64\n"
     ]
    }
   ],
   "source": [
    "#remove outliers\n",
    "\n",
    "low_boundary= Q1 - 1.5*IQR\n",
    "high_boundary= Q3+ 1.5*IQR\n",
    "df_nooutliers = col2[~((col2<low_boundary )| (col2 >high_boundary)).any(axis=1)]\n",
    "#df_nooutliers.plot.box(figsize=(20,10))\n",
    "print(\"HIGH BOUNDARY\", high_boundary)\n",
    "\n",
    "print(\"LOW BOUNDARY\", low_boundary)\n",
    "\n",
    "print(\"Q3\", Q3)\n",
    "\n",
    "print(\"Q1\", Q1)"
   ]
  },
  {
   "cell_type": "markdown",
   "id": "57082667",
   "metadata": {},
   "source": [
    "What is the correlation bewtween age, hypertension, heart disease, avg glucose, bmi and stroke?"
   ]
  },
  {
   "cell_type": "code",
   "execution_count": 13,
   "id": "fcb811c6",
   "metadata": {},
   "outputs": [
    {
     "data": {
      "text/html": [
       "<div>\n",
       "<style scoped>\n",
       "    .dataframe tbody tr th:only-of-type {\n",
       "        vertical-align: middle;\n",
       "    }\n",
       "\n",
       "    .dataframe tbody tr th {\n",
       "        vertical-align: top;\n",
       "    }\n",
       "\n",
       "    .dataframe thead th {\n",
       "        text-align: right;\n",
       "    }\n",
       "</style>\n",
       "<table border=\"1\" class=\"dataframe\">\n",
       "  <thead>\n",
       "    <tr style=\"text-align: right;\">\n",
       "      <th></th>\n",
       "      <th>age</th>\n",
       "      <th>hypertension</th>\n",
       "      <th>heart_disease</th>\n",
       "      <th>avg_glucose_level</th>\n",
       "      <th>bmi</th>\n",
       "      <th>stroke</th>\n",
       "    </tr>\n",
       "  </thead>\n",
       "  <tbody>\n",
       "    <tr>\n",
       "      <th>age</th>\n",
       "      <td>1.000000</td>\n",
       "      <td>0.274425</td>\n",
       "      <td>0.257123</td>\n",
       "      <td>0.235838</td>\n",
       "      <td>0.333398</td>\n",
       "      <td>0.232331</td>\n",
       "    </tr>\n",
       "    <tr>\n",
       "      <th>hypertension</th>\n",
       "      <td>0.274425</td>\n",
       "      <td>1.000000</td>\n",
       "      <td>0.115991</td>\n",
       "      <td>0.180543</td>\n",
       "      <td>0.167811</td>\n",
       "      <td>0.142515</td>\n",
       "    </tr>\n",
       "    <tr>\n",
       "      <th>heart_disease</th>\n",
       "      <td>0.257123</td>\n",
       "      <td>0.115991</td>\n",
       "      <td>1.000000</td>\n",
       "      <td>0.154525</td>\n",
       "      <td>0.041357</td>\n",
       "      <td>0.137938</td>\n",
       "    </tr>\n",
       "    <tr>\n",
       "      <th>avg_glucose_level</th>\n",
       "      <td>0.235838</td>\n",
       "      <td>0.180543</td>\n",
       "      <td>0.154525</td>\n",
       "      <td>1.000000</td>\n",
       "      <td>0.175502</td>\n",
       "      <td>0.138936</td>\n",
       "    </tr>\n",
       "    <tr>\n",
       "      <th>bmi</th>\n",
       "      <td>0.333398</td>\n",
       "      <td>0.167811</td>\n",
       "      <td>0.041357</td>\n",
       "      <td>0.175502</td>\n",
       "      <td>1.000000</td>\n",
       "      <td>0.042374</td>\n",
       "    </tr>\n",
       "    <tr>\n",
       "      <th>stroke</th>\n",
       "      <td>0.232331</td>\n",
       "      <td>0.142515</td>\n",
       "      <td>0.137938</td>\n",
       "      <td>0.138936</td>\n",
       "      <td>0.042374</td>\n",
       "      <td>1.000000</td>\n",
       "    </tr>\n",
       "  </tbody>\n",
       "</table>\n",
       "</div>"
      ],
      "text/plain": [
       "                        age  hypertension  heart_disease  avg_glucose_level  \\\n",
       "age                1.000000      0.274425       0.257123           0.235838   \n",
       "hypertension       0.274425      1.000000       0.115991           0.180543   \n",
       "heart_disease      0.257123      0.115991       1.000000           0.154525   \n",
       "avg_glucose_level  0.235838      0.180543       0.154525           1.000000   \n",
       "bmi                0.333398      0.167811       0.041357           0.175502   \n",
       "stroke             0.232331      0.142515       0.137938           0.138936   \n",
       "\n",
       "                        bmi    stroke  \n",
       "age                0.333398  0.232331  \n",
       "hypertension       0.167811  0.142515  \n",
       "heart_disease      0.041357  0.137938  \n",
       "avg_glucose_level  0.175502  0.138936  \n",
       "bmi                1.000000  0.042374  \n",
       "stroke             0.042374  1.000000  "
      ]
     },
     "execution_count": 13,
     "metadata": {},
     "output_type": "execute_result"
    }
   ],
   "source": [
    "df_corr= col2.corr()\n",
    "df_corr"
   ]
  },
  {
   "cell_type": "markdown",
   "id": "47a7bcf3",
   "metadata": {},
   "source": [
    "Correlation between the age, hypertension, heart disease, average glucose level, bmi and stroke"
   ]
  },
  {
   "cell_type": "code",
   "execution_count": 43,
   "id": "3d8249d8",
   "metadata": {},
   "outputs": [
    {
     "data": {
      "text/plain": [
       "<AxesSubplot:>"
      ]
     },
     "execution_count": 43,
     "metadata": {},
     "output_type": "execute_result"
    },
    {
     "data": {
      "image/png": "[encoded data removed]",
      "text/plain": [
       "<Figure size 1440x720 with 2 Axes>"
      ]
     },
     "metadata": {
      "needs_background": "light"
     },
     "output_type": "display_data"
    }
   ],
   "source": [
    "sns.heatmap(df_corr, annot=True)"
   ]
  },
  {
   "cell_type": "code",
   "execution_count": 14,
   "id": "f0f39e82",
   "metadata": {},
   "outputs": [
    {
     "data": {
      "text/html": [
       "<div>\n",
       "<style scoped>\n",
       "    .dataframe tbody tr th:only-of-type {\n",
       "        vertical-align: middle;\n",
       "    }\n",
       "\n",
       "    .dataframe tbody tr th {\n",
       "        vertical-align: top;\n",
       "    }\n",
       "\n",
       "    .dataframe thead th {\n",
       "        text-align: right;\n",
       "    }\n",
       "</style>\n",
       "<table border=\"1\" class=\"dataframe\">\n",
       "  <thead>\n",
       "    <tr style=\"text-align: right;\">\n",
       "      <th></th>\n",
       "      <th>age</th>\n",
       "      <th>hypertension</th>\n",
       "      <th>heart_disease</th>\n",
       "      <th>avg_glucose_level</th>\n",
       "      <th>bmi</th>\n",
       "      <th>stroke</th>\n",
       "    </tr>\n",
       "  </thead>\n",
       "  <tbody>\n",
       "    <tr>\n",
       "      <th>age</th>\n",
       "      <td>1.000000</td>\n",
       "      <td>0.274425</td>\n",
       "      <td>0.257123</td>\n",
       "      <td>0.235838</td>\n",
       "      <td>0.333398</td>\n",
       "      <td>0.232331</td>\n",
       "    </tr>\n",
       "    <tr>\n",
       "      <th>hypertension</th>\n",
       "      <td>0.274425</td>\n",
       "      <td>1.000000</td>\n",
       "      <td>0.115991</td>\n",
       "      <td>0.180543</td>\n",
       "      <td>0.167811</td>\n",
       "      <td>0.142515</td>\n",
       "    </tr>\n",
       "    <tr>\n",
       "      <th>heart_disease</th>\n",
       "      <td>0.257123</td>\n",
       "      <td>0.115991</td>\n",
       "      <td>1.000000</td>\n",
       "      <td>0.154525</td>\n",
       "      <td>0.041357</td>\n",
       "      <td>0.137938</td>\n",
       "    </tr>\n",
       "    <tr>\n",
       "      <th>avg_glucose_level</th>\n",
       "      <td>0.235838</td>\n",
       "      <td>0.180543</td>\n",
       "      <td>0.154525</td>\n",
       "      <td>1.000000</td>\n",
       "      <td>0.175502</td>\n",
       "      <td>0.138936</td>\n",
       "    </tr>\n",
       "    <tr>\n",
       "      <th>bmi</th>\n",
       "      <td>0.333398</td>\n",
       "      <td>0.167811</td>\n",
       "      <td>0.041357</td>\n",
       "      <td>0.175502</td>\n",
       "      <td>1.000000</td>\n",
       "      <td>0.042374</td>\n",
       "    </tr>\n",
       "  </tbody>\n",
       "</table>\n",
       "</div>"
      ],
      "text/plain": [
       "                        age  hypertension  heart_disease  avg_glucose_level  \\\n",
       "age                1.000000      0.274425       0.257123           0.235838   \n",
       "hypertension       0.274425      1.000000       0.115991           0.180543   \n",
       "heart_disease      0.257123      0.115991       1.000000           0.154525   \n",
       "avg_glucose_level  0.235838      0.180543       0.154525           1.000000   \n",
       "bmi                0.333398      0.167811       0.041357           0.175502   \n",
       "\n",
       "                        bmi    stroke  \n",
       "age                0.333398  0.232331  \n",
       "hypertension       0.167811  0.142515  \n",
       "heart_disease      0.041357  0.137938  \n",
       "avg_glucose_level  0.175502  0.138936  \n",
       "bmi                1.000000  0.042374  "
      ]
     },
     "execution_count": 14,
     "metadata": {},
     "output_type": "execute_result"
    }
   ],
   "source": [
    "df_corr.head()"
   ]
  },
  {
   "cell_type": "markdown",
   "id": "11a6b1b4",
   "metadata": {},
   "source": [
    "Plot the coefficients for each variable"
   ]
  },
  {
   "cell_type": "code",
   "execution_count": 17,
   "id": "254a093e",
   "metadata": {},
   "outputs": [],
   "source": [
    "df_corr1= df_corr.drop(['stroke'])"
   ]
  },
  {
   "cell_type": "code",
   "execution_count": 39,
   "id": "61079450",
   "metadata": {},
   "outputs": [
    {
     "data": {
      "text/plain": [
       "Text(0.5, 1.0, 'Relationship between stroke and patient metrics')"
      ]
     },
     "execution_count": 39,
     "metadata": {},
     "output_type": "execute_result"
    },
    {
     "data": {
      "image/png": "[encoded data removed]",
      "text/plain": [
       "<Figure size 1440x720 with 1 Axes>"
      ]
     },
     "metadata": {
      "needs_background": "light"
     },
     "output_type": "display_data"
    }
   ],
   "source": [
    "#df_corr1= df_corr.drop['stroke']\n",
    "df_corr1sorted = df_corr1.sort_values(by= 'stroke', ascending =False)\n",
    "fig= df_corr1sorted.plot.bar(y=\"stroke\")\n",
    "plt.xlabel('Patient information ')\n",
    "plt.ylabel('Stroke')\n",
    "plt.title('Relationship between stroke and patient metrics')"
   ]
  },
  {
   "cell_type": "code",
   "execution_count": null,
   "id": "a50033f5",
   "metadata": {},
   "outputs": [],
   "source": []
  }
 ],
 "metadata": {
  "kernelspec": {
   "display_name": "Python 3",
   "language": "python",
   "name": "python3"
  },
  "language_info": {
   "codemirror_mode": {
    "name": "ipython",
    "version": 3
   },
   "file_extension": ".py",
   "mimetype": "text/x-python",
   "name": "python",
   "nbconvert_exporter": "python",
   "pygments_lexer": "ipython3",
   "version": "3.8.8"
  }
 },
 "nbformat": 4,
 "nbformat_minor": 5
}
